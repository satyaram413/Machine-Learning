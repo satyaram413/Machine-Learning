{
 "metadata": {
  "language_info": {
   "codemirror_mode": {
    "name": "ipython",
    "version": 3
   },
   "file_extension": ".py",
   "mimetype": "text/x-python",
   "name": "python",
   "nbconvert_exporter": "python",
   "pygments_lexer": "ipython3",
   "version": "3.8.5"
  },
  "orig_nbformat": 2,
  "kernelspec": {
   "name": "python3",
   "display_name": "Python 3",
   "language": "python"
  }
 },
 "nbformat": 4,
 "nbformat_minor": 2,
 "cells": [
  {
   "cell_type": "code",
   "execution_count": 6,
   "metadata": {},
   "outputs": [
    {
     "output_type": "stream",
     "name": "stdout",
     "text": [
      "[[0. 0.]]\n[[0. 0. 0. 0. 0.]\n [0. 0. 0. 0. 0.]\n [0. 0. 0. 0. 0.]\n [0. 0. 0. 0. 0.]\n [0. 0. 0. 0. 0.]]\n[1 2 3 4]\n[[ 1  2  3  4]\n [10 20 30 40]]\n[[10 10]\n [10 10]]\n[10 11 12 13 14 15 16 17 18 19]\n[10 15]\n"
     ]
    }
   ],
   "source": [
    "import numpy as np\n",
    "n0=np.zeros((1,2))\n",
    "n00= np.zeros((5,5))\n",
    "n1= np.array([1,2,3,4])\n",
    "n2=np.array([[1,2,3,4],[10,20,30,40]]) \n",
    "nfull= np.full((2,2),10) #--> 2 * 2 matrix with each element being 10\n",
    "nrange=np.arange(10,20) #-> no incremental value here the range is 10 - 19 inclusive of start range and exclusive of end range\n",
    "nrangelimit=np.arange(10,20,5) #-> no incremental value here the range is 10 - 19\n",
    "\n",
    "print(n0)\n",
    "print(n00)\n",
    "print(n1)\n",
    "print(n2)\n",
    "print(nfull)\n",
    "print(nrange)\n",
    "print(nrangelimit)"
   ]
  },
  {
   "cell_type": "code",
   "execution_count": 27,
   "metadata": {},
   "outputs": [
    {
     "output_type": "stream",
     "name": "stdout",
     "text": [
      "[59 78 74 87 85]\n[[ 1  2]\n [ 3  4]\n [10 20]\n [30 40]]\n"
     ]
    }
   ],
   "source": [
    "n1= np.random.randint(1,100,5) #--> 5 values between 1 -100 random values\n",
    "print(n1)\n",
    "\n",
    "n2=np.array([[1,2,3,4],[10,20,30,40]]) \n",
    "n2.shape\n",
    "n2.shape=(4,2)\n",
    "print(n2)\n"
   ]
  },
  {
   "cell_type": "code",
   "execution_count": 28,
   "metadata": {},
   "outputs": [
    {
     "output_type": "execute_result",
     "data": {
      "text/plain": [
       "array([[ 1, 10],\n",
       "       [ 2, 20],\n",
       "       [ 3, 30],\n",
       "       [ 4, 40]])"
      ]
     },
     "metadata": {},
     "execution_count": 28
    }
   ],
   "source": [
    "# Joining Numpy Arrays\n",
    "# vstack() --> stack numpy arrays vertically\n",
    "# hstack() --> Stack numpy arrays horizontally\n",
    "# column_stack() --> stack numpy arrays column based, values of each array go as an independent column\n",
    "\n",
    "n1=np.array([1,2,3,4])\n",
    "n2=np.array([10,20,30,40])\n",
    "np.vstack((n1,n2))"
   ]
  },
  {
   "cell_type": "code",
   "execution_count": 29,
   "metadata": {},
   "outputs": [
    {
     "output_type": "execute_result",
     "data": {
      "text/plain": [
       "array([ 1,  2,  3,  4, 10, 20, 30, 40])"
      ]
     },
     "metadata": {},
     "execution_count": 29
    }
   ],
   "source": [
    "np.hstack((n1,n2))"
   ]
  },
  {
   "cell_type": "code",
   "execution_count": 30,
   "metadata": {},
   "outputs": [
    {
     "output_type": "execute_result",
     "data": {
      "text/plain": [
       "array([[ 1, 10],\n",
       "       [ 2, 20],\n",
       "       [ 3, 30],\n",
       "       [ 4, 40]])"
      ]
     },
     "metadata": {},
     "execution_count": 30
    }
   ],
   "source": [
    "np.column_stack((n1,n2))\n"
   ]
  },
  {
   "cell_type": "code",
   "execution_count": 31,
   "metadata": {},
   "outputs": [
    {
     "output_type": "execute_result",
     "data": {
      "text/plain": [
       "array([10])"
      ]
     },
     "metadata": {},
     "execution_count": 31
    }
   ],
   "source": [
    "n1=np.array([10,20,30,40])\n",
    "n2=np.array([10,50,50,60,70])\n",
    "np.intersect1d(n1,n2) #--> common values would be output\n",
    "\n"
   ]
  },
  {
   "cell_type": "code",
   "execution_count": 32,
   "metadata": {},
   "outputs": [
    {
     "output_type": "execute_result",
     "data": {
      "text/plain": [
       "array([20, 30, 40])"
      ]
     },
     "metadata": {},
     "execution_count": 32
    }
   ],
   "source": [
    "np.setdiff1d(n1,n2) #--> those elements which are included in n2 array will be excluded and only elements which are present in n1 will be output"
   ]
  },
  {
   "cell_type": "code",
   "execution_count": 34,
   "metadata": {},
   "outputs": [
    {
     "output_type": "execute_result",
     "data": {
      "text/plain": [
       "36"
      ]
     },
     "metadata": {},
     "execution_count": 34
    }
   ],
   "source": [
    "# Addition of Numpy Array\n",
    "n1=np.array([1,2,3,4])\n",
    "n2= np.array([5,6,7,8])\n",
    "np.sum([n1,n2])"
   ]
  },
  {
   "cell_type": "code",
   "execution_count": 35,
   "metadata": {},
   "outputs": [
    {
     "output_type": "execute_result",
     "data": {
      "text/plain": [
       "array([ 6,  8, 10, 12])"
      ]
     },
     "metadata": {},
     "execution_count": 35
    }
   ],
   "source": [
    "np.sum([n1,n2],0) # the second argument is axis, 0 axis means it will add a0 with b0, and a1 with b1"
   ]
  },
  {
   "cell_type": "code",
   "execution_count": 36,
   "metadata": {},
   "outputs": [
    {
     "output_type": "execute_result",
     "data": {
      "text/plain": [
       "array([10, 26])"
      ]
     },
     "metadata": {},
     "execution_count": 36
    }
   ],
   "source": [
    "# the second argument is axis, 1 axis means it will add all 1st array elements and 2nd array elements independently \n",
    "np.sum([n1,n2],axis=1) "
   ]
  },
  {
   "cell_type": "code",
   "execution_count": 37,
   "metadata": {},
   "outputs": [
    {
     "output_type": "execute_result",
     "data": {
      "text/plain": [
       "array([2, 3, 4])"
      ]
     },
     "metadata": {},
     "execution_count": 37
    }
   ],
   "source": [
    "# if you want to add/multiply/divide/subtract scalar values to array elements\n",
    "\n",
    "n1=np.array([1,2,3])\n",
    "n1+1\n"
   ]
  },
  {
   "cell_type": "code",
   "execution_count": 38,
   "metadata": {},
   "outputs": [
    {
     "output_type": "execute_result",
     "data": {
      "text/plain": [
       "array([2, 4, 6])"
      ]
     },
     "metadata": {},
     "execution_count": 38
    }
   ],
   "source": [
    "n1*2"
   ]
  },
  {
   "cell_type": "code",
   "execution_count": 39,
   "metadata": {},
   "outputs": [
    {
     "output_type": "execute_result",
     "data": {
      "text/plain": [
       "array([0, 1, 2])"
      ]
     },
     "metadata": {},
     "execution_count": 39
    }
   ],
   "source": [
    "n1 -1"
   ]
  },
  {
   "cell_type": "code",
   "execution_count": 41,
   "metadata": {},
   "outputs": [
    {
     "output_type": "execute_result",
     "data": {
      "text/plain": [
       "array([0.5, 1. , 1.5])"
      ]
     },
     "metadata": {},
     "execution_count": 41
    }
   ],
   "source": [
    "n1 / 2 # n//2"
   ]
  },
  {
   "cell_type": "code",
   "execution_count": 42,
   "metadata": {},
   "outputs": [
    {
     "output_type": "execute_result",
     "data": {
      "text/plain": [
       "25.0"
      ]
     },
     "metadata": {},
     "execution_count": 42
    }
   ],
   "source": [
    "# Mean, standard deviation, standard\n",
    "\n",
    "n1= np.array([10,20,30,40])\n",
    "np.mean(n1)"
   ]
  },
  {
   "cell_type": "code",
   "execution_count": 43,
   "metadata": {},
   "outputs": [
    {
     "output_type": "execute_result",
     "data": {
      "text/plain": [
       "25.0"
      ]
     },
     "metadata": {},
     "execution_count": 43
    }
   ],
   "source": [
    "np.median(n1)"
   ]
  },
  {
   "cell_type": "code",
   "execution_count": 44,
   "metadata": {},
   "outputs": [
    {
     "output_type": "execute_result",
     "data": {
      "text/plain": [
       "11.180339887498949"
      ]
     },
     "metadata": {},
     "execution_count": 44
    }
   ],
   "source": [
    "np.std(n1) #standard deviation"
   ]
  },
  {
   "cell_type": "code",
   "execution_count": 46,
   "metadata": {},
   "outputs": [
    {
     "output_type": "execute_result",
     "data": {
      "text/plain": [
       "array([10, 20, 30, 40, 50])"
      ]
     },
     "metadata": {},
     "execution_count": 46
    }
   ],
   "source": [
    "# saving and loading numpy arrays\n",
    "n1=np.array([10,20,30,40,50])\n",
    "np.save('my_numpy',n1)\n",
    "np.load('my_numpy.npy') # when you want to load a saved array you have load using npy extension"
   ]
  },
  {
   "cell_type": "code",
   "execution_count": null,
   "metadata": {},
   "outputs": [],
   "source": []
  }
 ]
}